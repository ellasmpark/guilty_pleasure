{
 "cells": [
  {
   "cell_type": "code",
   "execution_count": 1,
   "id": "f8b2f94b",
   "metadata": {},
   "outputs": [],
   "source": [
    "#imports\n",
    "import requests\n",
    "import pandas as pd\n"
   ]
  },
  {
   "cell_type": "code",
   "execution_count": 2,
   "id": "00528edb",
   "metadata": {},
   "outputs": [],
   "source": [
    "# get request to the API\n",
    "\n",
    "key = 'db93d52c'\n",
    "id_ = '2687ec5e5b9636b116b9de9e7ad00f89'\n",
    "food = 'cookie'\n",
    "\n",
    "url = f\"https://api.edamam.com/api/food-database/v2/parser?app_id={key}&app_key={id_}&ingr={food}&nutrition-type=cooking\"\n",
    "r = requests.get(url).json()"
   ]
  },
  {
   "cell_type": "code",
   "execution_count": 4,
   "id": "25dcd682",
   "metadata": {},
   "outputs": [
    {
     "data": {
      "text/plain": [
       "'cookie'"
      ]
     },
     "execution_count": 4,
     "metadata": {},
     "output_type": "execute_result"
    }
   ],
   "source": [
    "r['text']"
   ]
  },
  {
   "cell_type": "code",
   "execution_count": 5,
   "id": "eb0b9390",
   "metadata": {},
   "outputs": [
    {
     "data": {
      "text/plain": [
       "{'ENERC_KCAL': 423.0, 'PROCNT': 5.25, 'FAT': 22.08, 'CHOCDF': 65.86}"
      ]
     },
     "execution_count": 5,
     "metadata": {},
     "output_type": "execute_result"
    }
   ],
   "source": [
    "macros = r['hints'][0]['food']['nutrients']\n",
    "macros"
   ]
  },
  {
   "cell_type": "code",
   "execution_count": 3,
   "id": "a33a6302",
   "metadata": {},
   "outputs": [],
   "source": [
    "#function to take users input(foods) and calculate the sum of user's daily macro intake\n",
    "\n",
    "def calculator(*foods):\n",
    "    cals = 0\n",
    "    proteins = 0\n",
    "    fats = 0 \n",
    "    carbs = 0\n",
    "    fibers = 0\n",
    "    for food in foods:\n",
    "        url = f\"https://api.edamam.com/api/food-database/v2/parser?app_id=db93d52c&app_key=2687ec5e5b9636b116b9de9e7ad00f89&ingr={food}&nutrition-type=cooking\"\n",
    "        r = requests.get(url).json()\n",
    "        cal = r['hints'][0]['food']['nutrients']['ENERC_KCAL']\n",
    "        protein = r['hints'][0]['food']['nutrients']['PROCNT']\n",
    "        fat = r['hints'][0]['food']['nutrients']['FAT']\n",
    "        carb = r['hints'][0]['food']['nutrients']['CHOCDF']\n",
    "        fiber = r['hints'][0]['food']['nutrients'].get('FIBTG', 0)\n",
    "        cals += cal\n",
    "        proteins += protein\n",
    "        fats += fat \n",
    "        carbs += carb\n",
    "        fibers += fiber\n",
    "    return cals, proteins, fats, carbs, fibers\n"
   ]
  },
  {
   "cell_type": "code",
   "execution_count": 4,
   "id": "0a193c6b",
   "metadata": {},
   "outputs": [
    {
     "name": "stdout",
     "output_type": "stream",
     "text": [
      "Enter what you ate: Pizza\n"
     ]
    },
    {
     "data": {
      "text/plain": [
       "(268.0, 10.36, 12.28, 29.02, 2.2)"
      ]
     },
     "execution_count": 4,
     "metadata": {},
     "output_type": "execute_result"
    }
   ],
   "source": [
    "foods = input(\"Enter what you ate: \")\n",
    "\n",
    "calculator(foods)\n",
    "\n"
   ]
  }
 ],
 "metadata": {
  "kernelspec": {
   "display_name": "Python 3 (ipykernel)",
   "language": "python",
   "name": "python3"
  },
  "language_info": {
   "codemirror_mode": {
    "name": "ipython",
    "version": 3
   },
   "file_extension": ".py",
   "mimetype": "text/x-python",
   "name": "python",
   "nbconvert_exporter": "python",
   "pygments_lexer": "ipython3",
   "version": "3.8.13"
  },
  "toc": {
   "base_numbering": 1,
   "nav_menu": {},
   "number_sections": true,
   "sideBar": true,
   "skip_h1_title": false,
   "title_cell": "Table of Contents",
   "title_sidebar": "Contents",
   "toc_cell": false,
   "toc_position": {},
   "toc_section_display": true,
   "toc_window_display": false
  }
 },
 "nbformat": 4,
 "nbformat_minor": 5
}

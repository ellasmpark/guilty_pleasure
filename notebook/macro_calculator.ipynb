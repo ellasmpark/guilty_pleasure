{
 "cells": [
  {
   "cell_type": "code",
   "execution_count": 15,
   "id": "d034529a",
   "metadata": {},
   "outputs": [],
   "source": [
    "import requests"
   ]
  },
  {
   "cell_type": "markdown",
   "id": "b5ed314a",
   "metadata": {},
   "source": [
    "# Daily Recommended Calorie Calculator"
   ]
  },
  {
   "cell_type": "code",
   "execution_count": 16,
   "id": "1435694d",
   "metadata": {},
   "outputs": [],
   "source": [
    "def calories_macros_recommended(user_age,user_gender,user_height,user_weight,user_activity_level,user_goal):\n",
    "\n",
    "    #REE : the number of calories it takes to run your body without movement\n",
    "\n",
    "    # user inputs needed to calculate REE\n",
    "    #user_age,user_gender,user_height,user_weight\n",
    "    # REE Recommended\n",
    "    # 10 x weight (kg) + 6.25 x height (cm) – 5 x age (y) + 5 = REE\n",
    "\n",
    "    if user_gender == \"Men\":\n",
    "        user_ree = 10*user_weight + 6.25*user_height - 5*user_age + 5\n",
    "    user_ree = 10*user_weight + 6.25*user_height - 5*user_age - 161 #user is a woman\n",
    "    \n",
    "    \n",
    "    # TDEE : the number of calories your particular body burns in a day\n",
    "    \n",
    "    #activity levels : \n",
    "    # Sedentary\n",
    "    # Just everyday activities like a bit of walking, a couple of flights of stairs, eating, talking, etc. (REE X 1.2)\n",
    "    # Light activity\n",
    "    # Any activity that burns an additional 200-400 calories for females or 250-500 calories for males. (REE x 1.375)\n",
    "    # Moderate activity\n",
    "    # Any activity that burns an additional 400-650 calories for females or 500-800 calories for males. (REE x 1.55)\n",
    "    # Very Active\n",
    "    # Any activity that burns an additional 650+ calories for females or 800+ calories for males. (REE x 1.725) \n",
    "\n",
    "    activity_level_factor = {\n",
    "        'Sedentary': 1.2,\n",
    "        'Light activity': 1.375,\n",
    "        'Moderate activity': 1.55,\n",
    "        'Very Active': 1.725   \n",
    "    }\n",
    "\n",
    "    #user TDEE\n",
    "    user_tdee = user_ree * activity_level_factor[f'{user_activity_level}']\n",
    "    \n",
    "    #User's goal: lose, maintain or gain weight\n",
    "\n",
    "    goals_factor = {\n",
    "        \"Weight loss\": 0.8,\n",
    "        \"Maintain\": 1,\n",
    "        \"Weight gain\": 1.1\n",
    "    }\n",
    "\n",
    "    user_final_tdee = user_tdee * goals_factor[f'{user_goal}']\n",
    "    #Calculate the recommended protein / fat / carbs intake based on the calories\n",
    "    # 1 g protein = 4 Calories\n",
    "    # 1 g Carbohydrate = 4 Calories\n",
    "    # 1 g fat = 9 Calories\n",
    "\n",
    "    # Proteins :  Most people can use a more balanced approach and .825 g protein per pound\n",
    "    weight_lbs = user_weight * 2.2 \n",
    "    daily_protein_intake = weight_lbs * 0.825\n",
    "    daily_protein_cals = daily_protein_intake * 4\n",
    "\n",
    "    # Fats : Most research (and again, there are a lot of opinions) supports that 20%-30% of overall TDEE calories \n",
    "    # should come from the fat macro. Let’s use 25% and a middle-of-the-road starting point. \n",
    "    daily_fat_cals = user_tdee * 0.25\n",
    "    daily_fat_intake = daily_fat_cals / 9\n",
    "\n",
    "    # Carbs : We allocate the rest of our calories (originally calculated from our TDEE) to carbohydrates.\n",
    "    daily_carb_cals = user_tdee - daily_protein_cals - daily_fat_cals\n",
    "    daily_carb_intake = daily_carb_cals / 4\n",
    "    individual_ideal={}\n",
    "    individual_ideal['user_tdee']=user_tdee\n",
    "    individual_ideal['daily_protein_cals']=daily_protein_cals\n",
    "    individual_ideal['daily_fat_cals']=daily_fat_cals\n",
    "    individual_ideal['daily_carb_cals']=daily_carb_cals\n",
    "    %store individual_ideal\n",
    "    return individual_ideal"
   ]
  },
  {
   "cell_type": "markdown",
   "id": "dac07370",
   "metadata": {},
   "source": [
    "# Food Macro Calculator For Already Eaten Foods"
   ]
  },
  {
   "cell_type": "code",
   "execution_count": 17,
   "id": "7f369631",
   "metadata": {},
   "outputs": [],
   "source": [
    "def calculator(foods):\n",
    "    cals = 0\n",
    "    proteins = 0\n",
    "    fats = 0 \n",
    "    carbs = 0\n",
    "    fibers = 0\n",
    "    app_id=\"4e07f131\"\n",
    "    app_key=\"6f9bb3ba56ff2c9786adc5ade08cf1d2\"\n",
    "    for food in foods:\n",
    "        \n",
    "        url = f'https://api.edamam.com/api/food-database/v2/parser?app_id={app_id}&app_key={app_key}%09&ingr={food}&nutrition-type=cooking'\n",
    "        r = requests.get(url).json()\n",
    "        \n",
    "        cal = r['hints'][0]['food']['nutrients']['ENERC_KCAL']\n",
    "        protein = r['hints'][0]['food']['nutrients']['PROCNT']\n",
    "        fat = r['hints'][0]['food']['nutrients']['FAT']\n",
    "        carb = r['hints'][0]['food']['nutrients']['CHOCDF']\n",
    "        fiber = r['hints'][0]['food']['nutrients'].get('FIBTG',0)\n",
    "        cals += cal\n",
    "        proteins += protein\n",
    "        fats += fat \n",
    "        carbs += carb\n",
    "        fibers += fiber\n",
    "        individual_junk={}\n",
    "        individual_junk['cal']=cal\n",
    "        individual_junk['protein']=protein\n",
    "        individual_junk['carb']=carb\n",
    "        individual_junk['fats']=fats\n",
    "        %store individual_junk\n",
    "        return individual_junk"
   ]
  },
  {
   "cell_type": "markdown",
   "id": "37c99bb5",
   "metadata": {},
   "source": [
    "## Remaining cals and macros"
   ]
  },
  {
   "cell_type": "code",
   "execution_count": 24,
   "id": "d293c0b3",
   "metadata": {},
   "outputs": [
    {
     "name": "stdout",
     "output_type": "stream",
     "text": [
      "Stored 'remainder' (dict)\n"
     ]
    }
   ],
   "source": [
    "remainder={}\n",
    "remainder['rem_cals']=individual_ideal['user_tdee']-individual_junk['cal']\n",
    "remainder['rem_prot']=individual_ideal['daily_protein_cals']-individual_junk['protein']\n",
    "remainder['rem_fats']=individual_ideal['daily_fat_cals']-individual_junk['fats']\n",
    "remainder['rem_carbs']=individual_ideal['daily_carb_cals']-individual_junk['carb']\n",
    "%store remainder"
   ]
  },
  {
   "cell_type": "markdown",
   "id": "d997409c",
   "metadata": {},
   "source": [
    "# Food Recipe API"
   ]
  },
  {
   "cell_type": "markdown",
   "id": "3519690d",
   "metadata": {},
   "source": [
    "## inputs: food available, calories remaining"
   ]
  },
  {
   "cell_type": "code",
   "execution_count": 28,
   "id": "ae6af893",
   "metadata": {},
   "outputs": [],
   "source": [
    "def food_recipe(food_choice,predicted_calories):  #predicted_calories is recieved from the ml model\n",
    "\n",
    "    recipe_key = '1c4f674c'\n",
    "    recipe_id = 'f4063bcf2c650488f044cb2c2747fea3'\n",
    "    calories = \"400-500\"\n",
    "#     food_choice = \"pu\"\n",
    "\n",
    "    url_2 = f\"https://api.edamam.com/api/recipes/v2?type=public&q={food_choice}&app_id={recipe_key}&app_key={recipe_id}&calories={calories}\"\n",
    "    r_2 = requests.get(url_2).json()\n",
    "\n",
    "\n",
    "    recipe_titles = r_2['hits']\n",
    "    recipe=[]\n",
    "    for dicts in recipe_titles:\n",
    "        recipe.append(dicts['recipe']['label'])\n",
    "    return recipe"
   ]
  },
  {
   "cell_type": "code",
   "execution_count": 27,
   "id": "1a4c785a",
   "metadata": {
    "scrolled": true
   },
   "outputs": [
    {
     "data": {
      "text/plain": [
       "['Thai-style Pumpkin, Chicken And Coconut Soup recipes',\n",
       " 'Dinner Tonight: Meatless Pozole Verde (Hominy Soup)',\n",
       " 'Roast Pumpkin with Cheese \"Fondue\"',\n",
       " 'Chicken With Pumpkin & Chickpeas',\n",
       " 'Pumpkin and Mushroom Risotto',\n",
       " 'Olla Gitana (Gypsy Pot)',\n",
       " 'Pumpkin Sweet Potato Mash',\n",
       " 'Sausage, pumpkin and sage casserole',\n",
       " 'Red Cabbage Salad with Spicy Grilled Chicken and Pepitas recipes',\n",
       " 'Pumpkin-Chickpea Curry',\n",
       " 'Cook the Book: Coconut Rice with Variations',\n",
       " 'Hearts of palm & chicken chopped salad',\n",
       " 'Mediterranean Chicken Stew with Prunes and Pumpkin',\n",
       " 'Pumpkin Soup with Sage and Ham recipes',\n",
       " 'Roasted Squash and Pepita Pesto Dip recipes',\n",
       " 'Pumpkin Risotto with Sage and Cherry Tomatoes',\n",
       " 'Open Faced Smoked Chicken and Mustard Fruits Sandwich',\n",
       " 'Quinoa salad with avocado mayo',\n",
       " 'Creamy Pumpkin Spaghetti with Garlic Kale recipes',\n",
       " 'Chicken with Squash-Barley Pilaf']"
      ]
     },
     "execution_count": 27,
     "metadata": {},
     "output_type": "execute_result"
    }
   ],
   "source": [
    "food_recipe('pumpkin,chicken','500-600')"
   ]
  },
  {
   "cell_type": "code",
   "execution_count": null,
   "id": "95fdfa1a",
   "metadata": {},
   "outputs": [],
   "source": []
  },
  {
   "cell_type": "code",
   "execution_count": null,
   "id": "67c4ba8e",
   "metadata": {},
   "outputs": [],
   "source": []
  }
 ],
 "metadata": {
  "kernelspec": {
   "display_name": "Python 3 (ipykernel)",
   "language": "python",
   "name": "python3"
  },
  "language_info": {
   "codemirror_mode": {
    "name": "ipython",
    "version": 3
   },
   "file_extension": ".py",
   "mimetype": "text/x-python",
   "name": "python",
   "nbconvert_exporter": "python",
   "pygments_lexer": "ipython3",
   "version": "3.8.12"
  },
  "toc": {
   "base_numbering": 1,
   "nav_menu": {},
   "number_sections": true,
   "sideBar": true,
   "skip_h1_title": false,
   "title_cell": "Table of Contents",
   "title_sidebar": "Contents",
   "toc_cell": false,
   "toc_position": {},
   "toc_section_display": true,
   "toc_window_display": false
  }
 },
 "nbformat": 4,
 "nbformat_minor": 5
}

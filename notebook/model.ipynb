{
 "cells": [
  {
   "cell_type": "code",
   "execution_count": 12,
   "id": "88df5f36",
   "metadata": {},
   "outputs": [],
   "source": [
    "%store -r remaining_prot\n",
    "%store -r remaining_fat\n",
    "%store -r remaining_carb"
   ]
  },
  {
   "cell_type": "code",
   "execution_count": 13,
   "id": "daf18acc",
   "metadata": {},
   "outputs": [],
   "source": [
    "# imports\n",
    "import os\n",
    "import pandas as pd\n",
    "from sklearn.preprocessing import StandardScaler\n",
    "import seaborn as sns\n",
    "import matplotlib.pyplot as plt"
   ]
  },
  {
   "cell_type": "code",
   "execution_count": 19,
   "id": "e674868a",
   "metadata": {},
   "outputs": [],
   "source": [
    "# load data for training\n",
    "\n",
    "\n",
    "df= pd.read_csv('preprocessed.csv')\n",
    "df"
   ]
  },
  {
   "cell_type": "code",
   "execution_count": 18,
   "id": "da75cdda",
   "metadata": {},
   "outputs": [],
   "source": [
    "features = df.drop(columns=['Unnamed: 0','steps','n_ingredients']) \n",
    "features.head(3)\n",
    "type(features.fats)\n",
    "features.info()\n",
    "features"
   ]
  },
  {
   "cell_type": "code",
   "execution_count": 16,
   "id": "3c874651",
   "metadata": {},
   "outputs": [],
   "source": [
    "# defining thresholds\n",
    "remaining_prot= int(individual_ideal['daily_protein_cals']-individual_junk['protein'])\n",
    "remaining_fat= int(individual_ideal['daily_fat_cals']-individual_junk['carb'])\n",
    "remaining_carb= int(individual_ideal['daily_carb_cals']-individual_junk['fats'])\n",
    "\n",
    "features.loc[features['fats']>remaining_fat,'fat_category']='High fat'\n",
    "features.loc[features['fats']<=remaining_fat,'fat_category']='Low fat'\n",
    "\n",
    "features.loc[features['carbs']>remaining_prot,'carbs_category']='High carbs'\n",
    "features.loc[features['carbs']<=remaining_prot,'carbs_category']='Low carbs'\n",
    "\n",
    "features.loc[features['protein']>remaining_fat,'protein_category']='High protein'\n",
    "features.loc[features['protein']<=remaining_fat,'protein_category']='Low protein'"
   ]
  },
  {
   "cell_type": "code",
   "execution_count": 17,
   "id": "b08ef775",
   "metadata": {},
   "outputs": [],
   "source": [
    "X=features\n",
    "X"
   ]
  },
  {
   "cell_type": "code",
   "execution_count": null,
   "id": "857029fd",
   "metadata": {},
   "outputs": [],
   "source": [
    "# Convert the numeric values of macros into labels\n",
    "def label_macros(row):\n",
    "    if row['carbs'] > 0.5:\n",
    "        row['carbs_label'] = 'high carb'\n",
    "    else:\n",
    "        row['carbs_label'] = 'low carb'\n",
    "    if row['protein'] > 0.5:\n",
    "        row['protein_label'] = 'high protein'\n",
    "    else:\n",
    "        row['protein_label'] = 'low protein'\n",
    "    if row['fats'] > 0.5:\n",
    "        row['fat_label'] = 'high fat'\n",
    "    else:\n",
    "        row['fat_label'] = 'low fat'\n",
    "  \n",
    "    return row\n",
    "\n",
    "X =X.apply(label_macros, axis=1)\n"
   ]
  },
  {
   "cell_type": "code",
   "execution_count": null,
   "id": "ecd10aae",
   "metadata": {},
   "outputs": [],
   "source": [
    "X=features\n",
    "X"
   ]
  },
  {
   "cell_type": "code",
   "execution_count": null,
   "id": "06c3bbee",
   "metadata": {},
   "outputs": [],
   "source": [
    "import pandas as pd\n",
    "from sklearn.feature_extraction.text import TfidfVectorizer\n",
    "from sklearn.metrics.pairwise import cosine_similarity\n",
    "\n",
    "\n",
    "# Define a function to calculate macro repartition scores\n",
    "def macro_score(row):\n",
    "    if row['carbs_category'] == 'high carb':\n",
    "        carb_score = 1\n",
    "    else:\n",
    "        carb_score = 0\n",
    "    if row['protein_category'] == 'high protein':\n",
    "        protein_score = 1\n",
    "    else:\n",
    "        protein_score = 0\n",
    "    if row['fat_category'] == 'high fat':\n",
    "        fat_score = 1\n",
    "    else:\n",
    "        fat_score = 0\n",
    "   \n",
    "    macro_score = carb_score + protein_score + fat_score\n",
    "    return macro_score\n",
    "\n",
    "# Calculate macro scores for each recipe\n",
    "X['macro_score'] = X.apply(macro_score, axis=1)\n",
    "\n",
    "# Define a function to calculate favorite food similarity scores\n",
    "def favorite_food_scores(recipe1, recipe2):\n",
    "    # Use TF-IDF to vectorize recipe ingredients\n",
    "    vectorizer = TfidfVectorizer()\n",
    "    ingredients = [recipe1['ingredients'], recipe2['ingredients']]\n",
    "    vectors = vectorizer.fit_transform(ingredients)\n",
    "    \n",
    "    # Calculate cosine similarity between ingredient vectors\n",
    "    similarity = cosine_similarity(vectors)\n",
    "    \n",
    "    return similarity[0][1]\n",
    "\n",
    "# Define a function to calculate total scores for each recipe\n",
    "def calculate_scores(recipe1, recipe2):\n",
    "    macro_score = recipe1['macro_score'] + recipe2['macro_score']\n",
    "    favorite_food_score = favorite_food_scores(recipe1, recipe2)\n",
    "    total_score = macro_score + favorite_food_score\n",
    "    return total_score\n",
    "\n",
    "# Example usage: compare two recipes by calculating their scores\n",
    "recipe1 = X.loc[0]\n",
    "recipe2 = X.loc[1]\n",
    "score = calculate_scores(recipe1, recipe2)\n",
    "print(score)\n"
   ]
  },
  {
   "cell_type": "code",
   "execution_count": null,
   "id": "2cceb429",
   "metadata": {},
   "outputs": [],
   "source": [
    "X"
   ]
  },
  {
   "cell_type": "code",
   "execution_count": null,
   "id": "bd7cf806",
   "metadata": {},
   "outputs": [],
   "source": []
  },
  {
   "cell_type": "code",
   "execution_count": null,
   "id": "c3db028a",
   "metadata": {},
   "outputs": [],
   "source": []
  },
  {
   "cell_type": "code",
   "execution_count": null,
   "id": "144d70be",
   "metadata": {},
   "outputs": [],
   "source": []
  },
  {
   "cell_type": "code",
   "execution_count": null,
   "id": "5d5cdf3f",
   "metadata": {},
   "outputs": [],
   "source": []
  },
  {
   "cell_type": "code",
   "execution_count": null,
   "id": "f5ca6ddd",
   "metadata": {},
   "outputs": [],
   "source": []
  },
  {
   "cell_type": "code",
   "execution_count": null,
   "id": "cca791d8",
   "metadata": {},
   "outputs": [],
   "source": []
  },
  {
   "cell_type": "code",
   "execution_count": null,
   "id": "546579c1",
   "metadata": {},
   "outputs": [],
   "source": []
  }
 ],
 "metadata": {
  "kernelspec": {
   "display_name": "Python 3 (ipykernel)",
   "language": "python",
   "name": "python3"
  },
  "language_info": {
   "codemirror_mode": {
    "name": "ipython",
    "version": 3
   },
   "file_extension": ".py",
   "mimetype": "text/x-python",
   "name": "python",
   "nbconvert_exporter": "python",
   "pygments_lexer": "ipython3",
   "version": "3.8.12"
  },
  "toc": {
   "base_numbering": 1,
   "nav_menu": {},
   "number_sections": true,
   "sideBar": true,
   "skip_h1_title": false,
   "title_cell": "Table of Contents",
   "title_sidebar": "Contents",
   "toc_cell": false,
   "toc_position": {},
   "toc_section_display": true,
   "toc_window_display": false
  }
 },
 "nbformat": 4,
 "nbformat_minor": 5
}

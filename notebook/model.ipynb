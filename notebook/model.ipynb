{
 "cells": [
  {
   "cell_type": "code",
   "execution_count": 1,
   "id": "88df5f36",
   "metadata": {},
   "outputs": [],
   "source": [
    "%store -r remainder\n",
    "# %load_ext autoreload\n",
    "\n",
    "# %autoreload 2"
   ]
  },
  {
   "cell_type": "code",
   "execution_count": 2,
   "id": "daf18acc",
   "metadata": {},
   "outputs": [],
   "source": [
    "# imports\n",
    "import os\n",
    "import pandas as pd\n",
    "from sklearn.preprocessing import StandardScaler\n",
    "import seaborn as sns\n",
    "import matplotlib.pyplot as plt\n",
    "import numpy as np\n",
    "import autoreload"
   ]
  },
  {
   "cell_type": "code",
   "execution_count": 3,
   "id": "6b667817",
   "metadata": {},
   "outputs": [
    {
     "data": {
      "text/plain": [
       "{'rem_cals': 718.3,\n",
       " 'rem_prot': 66.00999999999999,\n",
       " 'rem_fats': 0,\n",
       " 'rem_carbs': 122.30125}"
      ]
     },
     "execution_count": 3,
     "metadata": {},
     "output_type": "execute_result"
    }
   ],
   "source": [
    "remainder"
   ]
  },
  {
   "cell_type": "code",
   "execution_count": 4,
   "id": "27af6517",
   "metadata": {},
   "outputs": [],
   "source": [
    "remaining_cal = remainder['rem_cals']\n",
    "remaining_carb = remainder['rem_carbs']\n",
    "remaining_prot = remainder['rem_prot']\n",
    "remaining_fat = remainder['rem_fats']"
   ]
  },
  {
   "cell_type": "code",
   "execution_count": 5,
   "id": "88c65402",
   "metadata": {},
   "outputs": [
    {
     "data": {
      "text/plain": [
       "66.00999999999999"
      ]
     },
     "execution_count": 5,
     "metadata": {},
     "output_type": "execute_result"
    }
   ],
   "source": [
    "remaining_prot"
   ]
  },
  {
   "cell_type": "code",
   "execution_count": 9,
   "id": "e674868a",
   "metadata": {},
   "outputs": [
    {
     "data": {
      "text/html": [
       "<div>\n",
       "<style scoped>\n",
       "    .dataframe tbody tr th:only-of-type {\n",
       "        vertical-align: middle;\n",
       "    }\n",
       "\n",
       "    .dataframe tbody tr th {\n",
       "        vertical-align: top;\n",
       "    }\n",
       "\n",
       "    .dataframe thead th {\n",
       "        text-align: right;\n",
       "    }\n",
       "</style>\n",
       "<table border=\"1\" class=\"dataframe\">\n",
       "  <thead>\n",
       "    <tr style=\"text-align: right;\">\n",
       "      <th></th>\n",
       "      <th>Unnamed: 0</th>\n",
       "      <th>ingredients</th>\n",
       "      <th>calories</th>\n",
       "      <th>fats</th>\n",
       "      <th>protein</th>\n",
       "      <th>carbs</th>\n",
       "    </tr>\n",
       "  </thead>\n",
       "  <tbody>\n",
       "    <tr>\n",
       "      <th>0</th>\n",
       "      <td>0</td>\n",
       "      <td>['winter squash', 'mexican seasoning', 'mixed ...</td>\n",
       "      <td>51.5</td>\n",
       "      <td>0.0</td>\n",
       "      <td>2.0</td>\n",
       "      <td>4.0</td>\n",
       "    </tr>\n",
       "    <tr>\n",
       "      <th>1</th>\n",
       "      <td>1</td>\n",
       "      <td>['prepared pizza crust', 'sausage patty', 'egg...</td>\n",
       "      <td>173.4</td>\n",
       "      <td>18.0</td>\n",
       "      <td>22.0</td>\n",
       "      <td>1.0</td>\n",
       "    </tr>\n",
       "    <tr>\n",
       "      <th>2</th>\n",
       "      <td>2</td>\n",
       "      <td>['ground beef', 'yellow onions', 'diced tomato...</td>\n",
       "      <td>269.8</td>\n",
       "      <td>22.0</td>\n",
       "      <td>39.0</td>\n",
       "      <td>5.0</td>\n",
       "    </tr>\n",
       "    <tr>\n",
       "      <th>3</th>\n",
       "      <td>3</td>\n",
       "      <td>['spreadable cheese with garlic and herbs', 'n...</td>\n",
       "      <td>368.1</td>\n",
       "      <td>17.0</td>\n",
       "      <td>14.0</td>\n",
       "      <td>20.0</td>\n",
       "    </tr>\n",
       "    <tr>\n",
       "      <th>4</th>\n",
       "      <td>4</td>\n",
       "      <td>['tomato juice', 'apple cider vinegar', 'sugar...</td>\n",
       "      <td>352.9</td>\n",
       "      <td>1.0</td>\n",
       "      <td>3.0</td>\n",
       "      <td>28.0</td>\n",
       "    </tr>\n",
       "    <tr>\n",
       "      <th>...</th>\n",
       "      <td>...</td>\n",
       "      <td>...</td>\n",
       "      <td>...</td>\n",
       "      <td>...</td>\n",
       "      <td>...</td>\n",
       "      <td>...</td>\n",
       "    </tr>\n",
       "    <tr>\n",
       "      <th>231632</th>\n",
       "      <td>231632</td>\n",
       "      <td>['celery', 'onion', 'green sweet pepper', 'gar...</td>\n",
       "      <td>415.2</td>\n",
       "      <td>26.0</td>\n",
       "      <td>44.0</td>\n",
       "      <td>15.0</td>\n",
       "    </tr>\n",
       "    <tr>\n",
       "      <th>231633</th>\n",
       "      <td>231633</td>\n",
       "      <td>['paprika', 'salt', 'garlic powder', 'onion po...</td>\n",
       "      <td>14.8</td>\n",
       "      <td>0.0</td>\n",
       "      <td>1.0</td>\n",
       "      <td>1.0</td>\n",
       "    </tr>\n",
       "    <tr>\n",
       "      <th>231634</th>\n",
       "      <td>231634</td>\n",
       "      <td>['hard-cooked eggs', 'mayonnaise', 'dijon must...</td>\n",
       "      <td>59.2</td>\n",
       "      <td>6.0</td>\n",
       "      <td>6.0</td>\n",
       "      <td>0.0</td>\n",
       "    </tr>\n",
       "    <tr>\n",
       "      <th>231635</th>\n",
       "      <td>231635</td>\n",
       "      <td>['butter', 'eagle brand condensed milk', 'ligh...</td>\n",
       "      <td>188.0</td>\n",
       "      <td>11.0</td>\n",
       "      <td>7.0</td>\n",
       "      <td>9.0</td>\n",
       "    </tr>\n",
       "    <tr>\n",
       "      <th>231636</th>\n",
       "      <td>231636</td>\n",
       "      <td>['granulated sugar', 'shortening', 'eggs', 'fl...</td>\n",
       "      <td>174.9</td>\n",
       "      <td>14.0</td>\n",
       "      <td>4.0</td>\n",
       "      <td>6.0</td>\n",
       "    </tr>\n",
       "  </tbody>\n",
       "</table>\n",
       "<p>231637 rows × 6 columns</p>\n",
       "</div>"
      ],
      "text/plain": [
       "        Unnamed: 0                                        ingredients  \\\n",
       "0                0  ['winter squash', 'mexican seasoning', 'mixed ...   \n",
       "1                1  ['prepared pizza crust', 'sausage patty', 'egg...   \n",
       "2                2  ['ground beef', 'yellow onions', 'diced tomato...   \n",
       "3                3  ['spreadable cheese with garlic and herbs', 'n...   \n",
       "4                4  ['tomato juice', 'apple cider vinegar', 'sugar...   \n",
       "...            ...                                                ...   \n",
       "231632      231632  ['celery', 'onion', 'green sweet pepper', 'gar...   \n",
       "231633      231633  ['paprika', 'salt', 'garlic powder', 'onion po...   \n",
       "231634      231634  ['hard-cooked eggs', 'mayonnaise', 'dijon must...   \n",
       "231635      231635  ['butter', 'eagle brand condensed milk', 'ligh...   \n",
       "231636      231636  ['granulated sugar', 'shortening', 'eggs', 'fl...   \n",
       "\n",
       "        calories  fats  protein  carbs  \n",
       "0           51.5   0.0      2.0    4.0  \n",
       "1          173.4  18.0     22.0    1.0  \n",
       "2          269.8  22.0     39.0    5.0  \n",
       "3          368.1  17.0     14.0   20.0  \n",
       "4          352.9   1.0      3.0   28.0  \n",
       "...          ...   ...      ...    ...  \n",
       "231632     415.2  26.0     44.0   15.0  \n",
       "231633      14.8   0.0      1.0    1.0  \n",
       "231634      59.2   6.0      6.0    0.0  \n",
       "231635     188.0  11.0      7.0    9.0  \n",
       "231636     174.9  14.0      4.0    6.0  \n",
       "\n",
       "[231637 rows x 6 columns]"
      ]
     },
     "execution_count": 9,
     "metadata": {},
     "output_type": "execute_result"
    }
   ],
   "source": [
    "# load data for training\n",
    "X = pd.read_csv('preprocessed.csv')\n",
    "X"
   ]
  },
  {
   "cell_type": "code",
   "execution_count": 10,
   "id": "da75cdda",
   "metadata": {},
   "outputs": [
    {
     "data": {
      "text/html": [
       "<div>\n",
       "<style scoped>\n",
       "    .dataframe tbody tr th:only-of-type {\n",
       "        vertical-align: middle;\n",
       "    }\n",
       "\n",
       "    .dataframe tbody tr th {\n",
       "        vertical-align: top;\n",
       "    }\n",
       "\n",
       "    .dataframe thead th {\n",
       "        text-align: right;\n",
       "    }\n",
       "</style>\n",
       "<table border=\"1\" class=\"dataframe\">\n",
       "  <thead>\n",
       "    <tr style=\"text-align: right;\">\n",
       "      <th></th>\n",
       "      <th>ingredients</th>\n",
       "      <th>calories</th>\n",
       "      <th>fats</th>\n",
       "      <th>protein</th>\n",
       "      <th>carbs</th>\n",
       "    </tr>\n",
       "  </thead>\n",
       "  <tbody>\n",
       "    <tr>\n",
       "      <th>0</th>\n",
       "      <td>['winter squash', 'mexican seasoning', 'mixed ...</td>\n",
       "      <td>51.5</td>\n",
       "      <td>0.0</td>\n",
       "      <td>2.0</td>\n",
       "      <td>4.0</td>\n",
       "    </tr>\n",
       "    <tr>\n",
       "      <th>1</th>\n",
       "      <td>['prepared pizza crust', 'sausage patty', 'egg...</td>\n",
       "      <td>173.4</td>\n",
       "      <td>18.0</td>\n",
       "      <td>22.0</td>\n",
       "      <td>1.0</td>\n",
       "    </tr>\n",
       "    <tr>\n",
       "      <th>2</th>\n",
       "      <td>['ground beef', 'yellow onions', 'diced tomato...</td>\n",
       "      <td>269.8</td>\n",
       "      <td>22.0</td>\n",
       "      <td>39.0</td>\n",
       "      <td>5.0</td>\n",
       "    </tr>\n",
       "    <tr>\n",
       "      <th>3</th>\n",
       "      <td>['spreadable cheese with garlic and herbs', 'n...</td>\n",
       "      <td>368.1</td>\n",
       "      <td>17.0</td>\n",
       "      <td>14.0</td>\n",
       "      <td>20.0</td>\n",
       "    </tr>\n",
       "    <tr>\n",
       "      <th>4</th>\n",
       "      <td>['tomato juice', 'apple cider vinegar', 'sugar...</td>\n",
       "      <td>352.9</td>\n",
       "      <td>1.0</td>\n",
       "      <td>3.0</td>\n",
       "      <td>28.0</td>\n",
       "    </tr>\n",
       "    <tr>\n",
       "      <th>...</th>\n",
       "      <td>...</td>\n",
       "      <td>...</td>\n",
       "      <td>...</td>\n",
       "      <td>...</td>\n",
       "      <td>...</td>\n",
       "    </tr>\n",
       "    <tr>\n",
       "      <th>231632</th>\n",
       "      <td>['celery', 'onion', 'green sweet pepper', 'gar...</td>\n",
       "      <td>415.2</td>\n",
       "      <td>26.0</td>\n",
       "      <td>44.0</td>\n",
       "      <td>15.0</td>\n",
       "    </tr>\n",
       "    <tr>\n",
       "      <th>231633</th>\n",
       "      <td>['paprika', 'salt', 'garlic powder', 'onion po...</td>\n",
       "      <td>14.8</td>\n",
       "      <td>0.0</td>\n",
       "      <td>1.0</td>\n",
       "      <td>1.0</td>\n",
       "    </tr>\n",
       "    <tr>\n",
       "      <th>231634</th>\n",
       "      <td>['hard-cooked eggs', 'mayonnaise', 'dijon must...</td>\n",
       "      <td>59.2</td>\n",
       "      <td>6.0</td>\n",
       "      <td>6.0</td>\n",
       "      <td>0.0</td>\n",
       "    </tr>\n",
       "    <tr>\n",
       "      <th>231635</th>\n",
       "      <td>['butter', 'eagle brand condensed milk', 'ligh...</td>\n",
       "      <td>188.0</td>\n",
       "      <td>11.0</td>\n",
       "      <td>7.0</td>\n",
       "      <td>9.0</td>\n",
       "    </tr>\n",
       "    <tr>\n",
       "      <th>231636</th>\n",
       "      <td>['granulated sugar', 'shortening', 'eggs', 'fl...</td>\n",
       "      <td>174.9</td>\n",
       "      <td>14.0</td>\n",
       "      <td>4.0</td>\n",
       "      <td>6.0</td>\n",
       "    </tr>\n",
       "  </tbody>\n",
       "</table>\n",
       "<p>231637 rows × 5 columns</p>\n",
       "</div>"
      ],
      "text/plain": [
       "                                              ingredients  calories  fats  \\\n",
       "0       ['winter squash', 'mexican seasoning', 'mixed ...      51.5   0.0   \n",
       "1       ['prepared pizza crust', 'sausage patty', 'egg...     173.4  18.0   \n",
       "2       ['ground beef', 'yellow onions', 'diced tomato...     269.8  22.0   \n",
       "3       ['spreadable cheese with garlic and herbs', 'n...     368.1  17.0   \n",
       "4       ['tomato juice', 'apple cider vinegar', 'sugar...     352.9   1.0   \n",
       "...                                                   ...       ...   ...   \n",
       "231632  ['celery', 'onion', 'green sweet pepper', 'gar...     415.2  26.0   \n",
       "231633  ['paprika', 'salt', 'garlic powder', 'onion po...      14.8   0.0   \n",
       "231634  ['hard-cooked eggs', 'mayonnaise', 'dijon must...      59.2   6.0   \n",
       "231635  ['butter', 'eagle brand condensed milk', 'ligh...     188.0  11.0   \n",
       "231636  ['granulated sugar', 'shortening', 'eggs', 'fl...     174.9  14.0   \n",
       "\n",
       "        protein  carbs  \n",
       "0           2.0    4.0  \n",
       "1          22.0    1.0  \n",
       "2          39.0    5.0  \n",
       "3          14.0   20.0  \n",
       "4           3.0   28.0  \n",
       "...         ...    ...  \n",
       "231632     44.0   15.0  \n",
       "231633      1.0    1.0  \n",
       "231634      6.0    0.0  \n",
       "231635      7.0    9.0  \n",
       "231636      4.0    6.0  \n",
       "\n",
       "[231637 rows x 5 columns]"
      ]
     },
     "execution_count": 10,
     "metadata": {},
     "output_type": "execute_result"
    }
   ],
   "source": [
    "X.drop(columns=['Unnamed: 0'])"
   ]
  },
  {
   "cell_type": "code",
   "execution_count": 11,
   "id": "d7f539c9",
   "metadata": {},
   "outputs": [],
   "source": [
    "X['ingredients'] = X['ingredients'].map(eval)"
   ]
  },
  {
   "cell_type": "code",
   "execution_count": 12,
   "id": "d3b59b5d",
   "metadata": {},
   "outputs": [
    {
     "name": "stdout",
     "output_type": "stream",
     "text": [
      "['winter squash', 'mexican seasoning', 'mixed spice', 'honey', 'butter', 'olive oil', 'salt']\n"
     ]
    },
    {
     "data": {
      "text/plain": [
       "list"
      ]
     },
     "execution_count": 12,
     "metadata": {},
     "output_type": "execute_result"
    }
   ],
   "source": [
    "print(X['ingredients'][0])\n",
    "type(X['ingredients'][0])"
   ]
  },
  {
   "cell_type": "markdown",
   "id": "71d70612",
   "metadata": {},
   "source": [
    "# Assign Scores based on user's food choice and remaining calories and macros"
   ]
  },
  {
   "cell_type": "markdown",
   "id": "1cb431af",
   "metadata": {},
   "source": [
    "## assign score based on user's food choice  "
   ]
  },
  {
   "cell_type": "code",
   "execution_count": 13,
   "id": "cd47c0c9",
   "metadata": {},
   "outputs": [],
   "source": [
    "# import necessary libraries\n",
    "import pandas as pd\n",
    "from sklearn.model_selection import train_test_split\n",
    "from sklearn.ensemble import RandomForestClassifier\n",
    "\n",
    "\n",
    "food_choice = ['winter squash']     \n",
    " \n",
    "# assign scores based on the conditions\n",
    "scores = []\n",
    "\n",
    "for i in range(len(X)):\n",
    "    ingredients = set(X.loc[i, 'ingredients'])\n",
    "    if set(food_choice).issubset(ingredients):\n",
    "        scores.append(1)\n",
    "    else:\n",
    "        scores.append(0)"
   ]
  },
  {
   "cell_type": "code",
   "execution_count": 14,
   "id": "8471a9aa",
   "metadata": {},
   "outputs": [],
   "source": [
    "# add the scores to the dataframe\n",
    "X['score'] = scores"
   ]
  },
  {
   "cell_type": "code",
   "execution_count": 19,
   "id": "8acd573e",
   "metadata": {},
   "outputs": [
    {
     "data": {
      "text/plain": [
       "0    231577\n",
       "1        60\n",
       "Name: score, dtype: int64"
      ]
     },
     "execution_count": 19,
     "metadata": {},
     "output_type": "execute_result"
    }
   ],
   "source": [
    "X[X.score==1]\n",
    "X.score.value_counts()"
   ]
  },
  {
   "cell_type": "markdown",
   "id": "941a87b6",
   "metadata": {},
   "source": [
    "## assign scores based on user's remaining calories and macros"
   ]
  },
  {
   "cell_type": "code",
   "execution_count": null,
   "id": "3c874651",
   "metadata": {},
   "outputs": [],
   "source": [
    "X.loc[X['calories']>remaining_cal,'cal_category']='High cal'\n",
    "X.loc[X['calories']<=remaining_cal,'cal_category']='Low cal'\n",
    "\n",
    "X.loc[X['fats']>remaining_fat,'fat_category']='High fat'\n",
    "X.loc[X['fats']<=remaining_fat,'fat_category']='Low fat'\n",
    "\n",
    "X.loc[X['carbs']>remaining_carb,'carbs_category']='High carbs'\n",
    "X.loc[X['carbs']<=remaining_carb,'carbs_category']='Low carbs'\n",
    "\n",
    "X.loc[X['protein']>remaining_prot,'protein_category']='High protein'\n",
    "X.loc[X['protein']<=remaining_prot,'protein_category']='Low protein'"
   ]
  },
  {
   "cell_type": "code",
   "execution_count": null,
   "id": "ecd10aae",
   "metadata": {},
   "outputs": [],
   "source": [
    "X"
   ]
  },
  {
   "cell_type": "code",
   "execution_count": 25,
   "id": "591bfba3",
   "metadata": {},
   "outputs": [
    {
     "data": {
      "text/plain": [
       "not within range    231637\n",
       "Name: cal_category, dtype: int64"
      ]
     },
     "execution_count": 25,
     "metadata": {},
     "output_type": "execute_result"
    }
   ],
   "source": [
    "X['cal_category'].value_counts()"
   ]
  },
  {
   "cell_type": "code",
   "execution_count": null,
   "id": "9eb312f9",
   "metadata": {},
   "outputs": [],
   "source": [
    "X['carbs_category'].value_counts()"
   ]
  },
  {
   "cell_type": "code",
   "execution_count": 34,
   "id": "113e1f99",
   "metadata": {},
   "outputs": [
    {
     "data": {
      "text/plain": [
       "not within range    231637\n",
       "Name: protein_category, dtype: int64"
      ]
     },
     "execution_count": 34,
     "metadata": {},
     "output_type": "execute_result"
    }
   ],
   "source": [
    "X['protein_category'].value_counts()"
   ]
  },
  {
   "cell_type": "code",
   "execution_count": 30,
   "id": "0672b68e",
   "metadata": {},
   "outputs": [
    {
     "data": {
      "text/plain": [
       "not within range    231637\n",
       "Name: fat_category, dtype: int64"
      ]
     },
     "execution_count": 30,
     "metadata": {},
     "output_type": "execute_result"
    }
   ],
   "source": [
    "X['fat_category'].value_counts()"
   ]
  },
  {
   "cell_type": "code",
   "execution_count": null,
   "id": "e40c7aec",
   "metadata": {},
   "outputs": [],
   "source": [
    "test = X.iloc[1:10]\n",
    "test"
   ]
  },
  {
   "cell_type": "code",
   "execution_count": null,
   "id": "c009e89b",
   "metadata": {},
   "outputs": [],
   "source": [
    "def macro_score(row):\n",
    "    if row['cal_category'] == 'High cal':\n",
    "        cal_score = 1\n",
    "    else:\n",
    "        cal_score = 0\n",
    "    if row['carbs_category'] == 'High carb':\n",
    "        carb_score = 1\n",
    "    else:\n",
    "        carb_score = 0\n",
    "    if row['protein_category'] == 'High protein':\n",
    "        protein_score = 1\n",
    "    else:\n",
    "        protein_score = 0\n",
    "    if row['fat_category'] == 'High fat':\n",
    "        fat_score = 1\n",
    "    else:\n",
    "        fat_score = 0\n",
    "   \n",
    "    macro_score = carb_score + protein_score + fat_score\n",
    "    return macro_score\n",
    "\n",
    "# Calculate macro scores for each recipe\n",
    "# test['macro_score'] = test.apply(macro_score, axis=1)"
   ]
  },
  {
   "cell_type": "code",
   "execution_count": null,
   "id": "d957c988",
   "metadata": {},
   "outputs": [],
   "source": [
    "X['macro_score'] = X.apply(macro_score, axis=1)"
   ]
  },
  {
   "cell_type": "code",
   "execution_count": null,
   "id": "48832a23",
   "metadata": {},
   "outputs": [],
   "source": [
    "X['macro_score'].value_counts()"
   ]
  },
  {
   "cell_type": "code",
   "execution_count": null,
   "id": "2cceb429",
   "metadata": {},
   "outputs": [],
   "source": [
    "recipes = X[(X['fat_category']=='Low fat')& (X['carbs_category']=='Low carbs')& (X['protein_category']=='Low protein')&(X['cal_category']=='Low cal')] \n",
    "# features.loc[features['calories']>remaining_cal,'cal_category']='High cal'"
   ]
  },
  {
   "cell_type": "code",
   "execution_count": null,
   "id": "1a189f7c",
   "metadata": {},
   "outputs": [],
   "source": [
    "X['score'].value_counts()"
   ]
  },
  {
   "cell_type": "code",
   "execution_count": null,
   "id": "4527d70f",
   "metadata": {},
   "outputs": [],
   "source": [
    "# set(food_choice).issubset(set(X.loc[0, ['ingredients']]))"
   ]
  },
  {
   "cell_type": "code",
   "execution_count": null,
   "id": "0ebae7f3",
   "metadata": {},
   "outputs": [],
   "source": [
    "# # X.loc[0, ['ingredients']]\n",
    "\n",
    "# set_ = set(X.loc[0, ['ingredients']])\n",
    "# print(set_)\n",
    "# # ingredients_list = [i for i in X['ingredients'][0]]\n",
    "# # print(ingredients_list)"
   ]
  },
  {
   "cell_type": "code",
   "execution_count": null,
   "id": "391d1dbc",
   "metadata": {},
   "outputs": [],
   "source": [
    "# element = []\n",
    "# food_choice = ['winter squash', 'mexican seasoning']\n",
    "# for food in food_choice:\n",
    "#     element.append([food])\n",
    "#     print(element)"
   ]
  },
  {
   "cell_type": "code",
   "execution_count": null,
   "id": "af0a2af2",
   "metadata": {},
   "outputs": [],
   "source": [
    "# recipes.loc[1, ['ingredients']]\n",
    "recipes.reset_index(inplace=True)"
   ]
  },
  {
   "cell_type": "code",
   "execution_count": null,
   "id": "4c99bb2d",
   "metadata": {},
   "outputs": [],
   "source": [
    "recipes"
   ]
  },
  {
   "cell_type": "code",
   "execution_count": null,
   "id": "4d1b6198",
   "metadata": {},
   "outputs": [],
   "source": [
    "new_recipes = recipes.drop(columns=['index','level_0'])"
   ]
  },
  {
   "cell_type": "code",
   "execution_count": null,
   "id": "cf8c4349",
   "metadata": {},
   "outputs": [],
   "source": [
    "new_recipes"
   ]
  },
  {
   "cell_type": "code",
   "execution_count": null,
   "id": "250ec88e",
   "metadata": {},
   "outputs": [],
   "source": [
    "new_recipes['score'].value_counts()"
   ]
  },
  {
   "cell_type": "code",
   "execution_count": null,
   "id": "bd7cf806",
   "metadata": {},
   "outputs": [],
   "source": [
    "# split the data into training and testing sets\n",
    "X_train, X_test, y_train, y_test = train_test_split(X, scores, test_size=0.3, random_state=42)\n",
    "# initialize the model\n",
    "model = RandomForestClassifier(n_estimators=100)\n",
    "# fit the model on the training data\n",
    "model.fit(X_train, y_train)\n",
    "# make predictions on the testing data\n",
    "y_pred = model.predict(X_test)\n",
    "# evaluate the model\n",
    "# calculate the accuracy score or mean squared error\n",
    "# use the model to score new recipes\n",
    "# input the remaining macros and available ingredients\n",
    "# preprocess the input data\n",
    "# make predictions using the trained model\n",
    "# sort the predicted scores in descending order\n",
    "# return the top recommended recipes to the user"
   ]
  },
  {
   "cell_type": "code",
   "execution_count": null,
   "id": "c3db028a",
   "metadata": {},
   "outputs": [],
   "source": []
  },
  {
   "cell_type": "code",
   "execution_count": null,
   "id": "144d70be",
   "metadata": {},
   "outputs": [],
   "source": []
  },
  {
   "cell_type": "code",
   "execution_count": null,
   "id": "5d5cdf3f",
   "metadata": {},
   "outputs": [],
   "source": []
  },
  {
   "cell_type": "code",
   "execution_count": null,
   "id": "f5ca6ddd",
   "metadata": {},
   "outputs": [],
   "source": []
  },
  {
   "cell_type": "code",
   "execution_count": null,
   "id": "cca791d8",
   "metadata": {},
   "outputs": [],
   "source": []
  },
  {
   "cell_type": "code",
   "execution_count": null,
   "id": "546579c1",
   "metadata": {},
   "outputs": [],
   "source": []
  }
 ],
 "metadata": {
  "kernelspec": {
   "display_name": "Python 3 (ipykernel)",
   "language": "python",
   "name": "python3"
  },
  "language_info": {
   "codemirror_mode": {
    "name": "ipython",
    "version": 3
   },
   "file_extension": ".py",
   "mimetype": "text/x-python",
   "name": "python",
   "nbconvert_exporter": "python",
   "pygments_lexer": "ipython3",
   "version": "3.8.13"
  },
  "toc": {
   "base_numbering": 1,
   "nav_menu": {},
   "number_sections": true,
   "sideBar": true,
   "skip_h1_title": false,
   "title_cell": "Table of Contents",
   "title_sidebar": "Contents",
   "toc_cell": false,
   "toc_position": {},
   "toc_section_display": true,
   "toc_window_display": false
  }
 },
 "nbformat": 4,
 "nbformat_minor": 5
}
